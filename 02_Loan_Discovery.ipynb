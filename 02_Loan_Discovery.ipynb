{
 "cells": [
  {
   "cell_type": "markdown",
   "metadata": {},
   "source": [
    "# Script To Do Discovery On Loan Types"
   ]
  },
  {
   "cell_type": "code",
   "execution_count": 15,
   "metadata": {},
   "outputs": [],
   "source": [
    "import pandas as pd\n",
    "import numpy as np\n",
    "import matplotlib.pyplot as plt\n",
    "import seaborn as sns\n",
    "\n",
    "pd.set_option('display.max_columns',100)\n",
    "pd.set_option('display.max_rows',100)\n",
    "\n",
    "from sklearn.preprocessing import OrdinalEncoder, LabelEncoder, OneHotEncoder\n",
    "from sklearn.compose import ColumnTransformer\n",
    "from sklearn.model_selection import train_test_split\n",
    "from sklearn.pipeline import Pipeline\n",
    "from sklearn.impute import SimpleImputer\n"
   ]
  },
  {
   "cell_type": "code",
   "execution_count": 16,
   "metadata": {},
   "outputs": [],
   "source": [
    "loans_base_df = pd.read_csv(\"./csv_files/loans_merged_all_transactions.csv\")\n",
    "\n",
    "loans_base_df = loans_base_df.replace([np.inf, -np.inf], np.nan)\n",
    "\n",
    "target_raw = loans_base_df['status'].copy()\n",
    "target_raw[(target_raw == 'A') | (target_raw == 'C')] = 0\n",
    "target_raw[(target_raw == 'B')  | (target_raw == 'D')] = 1"
   ]
  },
  {
   "cell_type": "code",
   "execution_count": 17,
   "metadata": {},
   "outputs": [
    {
     "name": "stdout",
     "output_type": "stream",
     "text": [
      "0.11143695014662756 0.8885630498533724\n"
     ]
    }
   ],
   "source": [
    "#Number of loans\n",
    "\n",
    "num_comp_loans = target_raw.sum()\n",
    "\n",
    "num_ncomp_loans = loans_base_df.shape[0] - num_comp_loans\n",
    "\n",
    "print(num_comp_loans/loans_base_df.shape[0],num_ncomp_loans/loans_base_df.shape[0])\n"
   ]
  },
  {
   "cell_type": "markdown",
   "metadata": {},
   "source": [
    "# Seperate Into Presegmented Loan Types A,B,C,D"
   ]
  },
  {
   "cell_type": "code",
   "execution_count": 18,
   "metadata": {},
   "outputs": [
    {
     "name": "stdout",
     "output_type": "stream",
     "text": [
      "Total:  55253001 48008739\n",
      "A:      18602306 910\n",
      "B:       3350530 1011818\n",
      "C:      28891760 40186612\n",
      "D:       4408405 6809399\n"
     ]
    }
   ],
   "source": [
    "#Value of Loans\n",
    "\n",
    "#What is dataset current date.... December 31st, 1998 \n",
    "\n",
    "A_loans = loans_base_df[loans_base_df['status']=='A']\n",
    "C_loans = loans_base_df[loans_base_df['status']=='C']\n",
    "\n",
    "B_loans = loans_base_df[loans_base_df['status']=='B']\n",
    "D_loans = loans_base_df[loans_base_df['status']=='D']\n",
    "\n",
    "#date_x is loan date\n",
    "#date_y is account creation date\n",
    "\n",
    "Amount_Paid_A = A_loans['k_symbol_UVER_sum']\n",
    "Amount_Paid_B = B_loans['k_symbol_UVER_sum']\n",
    "Amount_Paid_C = C_loans['k_symbol_UVER_sum']\n",
    "Amount_Paid_D = D_loans['k_symbol_UVER_sum']\n",
    "\n",
    "Amount_Rem_A = A_loans['amount'] - A_loans['k_symbol_UVER_sum']\n",
    "Amount_Rem_B = B_loans['amount'] - B_loans['k_symbol_UVER_sum']\n",
    "Amount_Rem_C = C_loans['amount'] - C_loans['k_symbol_UVER_sum']\n",
    "Amount_Rem_D = D_loans['amount'] - D_loans['k_symbol_UVER_sum']\n",
    "\n",
    "Amount_Paid_Tot = Amount_Paid_A.sum() + Amount_Paid_B.sum() + Amount_Paid_C.sum() + Amount_Paid_D.sum()\n",
    "Amount_Rem_Tot = Amount_Rem_A.sum() + Amount_Rem_B.sum() + Amount_Rem_C.sum() + Amount_Rem_D.sum()\n",
    "\n",
    "\n",
    "print('Total: ',Amount_Paid_Tot, Amount_Rem_Tot)\n",
    "\n",
    "print('A:     ' ,Amount_Paid_A.sum(),Amount_Rem_A.sum())\n",
    "print('B:      ' ,Amount_Paid_B.sum(),Amount_Rem_B.sum())\n",
    "print('C:     ' ,Amount_Paid_C.sum(),Amount_Rem_C.sum())\n",
    "print('D:      ' ,Amount_Paid_D.sum(),Amount_Rem_D.sum())"
   ]
  },
  {
   "cell_type": "code",
   "execution_count": 19,
   "metadata": {},
   "outputs": [
    {
     "data": {
      "text/html": [
       "<div>\n",
       "<style scoped>\n",
       "    .dataframe tbody tr th:only-of-type {\n",
       "        vertical-align: middle;\n",
       "    }\n",
       "\n",
       "    .dataframe tbody tr th {\n",
       "        vertical-align: top;\n",
       "    }\n",
       "\n",
       "    .dataframe thead th {\n",
       "        text-align: right;\n",
       "    }\n",
       "</style>\n",
       "<table border=\"1\" class=\"dataframe\">\n",
       "  <thead>\n",
       "    <tr style=\"text-align: right;\">\n",
       "      <th></th>\n",
       "      <th>loan_id</th>\n",
       "      <th>account_id</th>\n",
       "      <th>date_x</th>\n",
       "      <th>amount</th>\n",
       "      <th>duration</th>\n",
       "      <th>payments</th>\n",
       "      <th>status</th>\n",
       "      <th>district_id</th>\n",
       "      <th>frequency</th>\n",
       "      <th>date_y</th>\n",
       "      <th>amount_order</th>\n",
       "      <th>k_symbol_LEASING</th>\n",
       "      <th>k_symbol_Other</th>\n",
       "      <th>k_symbol_POJISTNE</th>\n",
       "      <th>k_symbol_SIPO</th>\n",
       "      <th>k_symbol_UVER</th>\n",
       "      <th>date_min</th>\n",
       "      <th>date_max</th>\n",
       "      <th>amount_sum</th>\n",
       "      <th>amount_mean</th>\n",
       "      <th>amount_std</th>\n",
       "      <th>balance_min</th>\n",
       "      <th>balance_max</th>\n",
       "      <th>balance_mean</th>\n",
       "      <th>balance_std</th>\n",
       "      <th>type_PRIJEM_sum</th>\n",
       "      <th>type_VYBER_sum</th>\n",
       "      <th>type_VYDAJ_sum</th>\n",
       "      <th>operation_Other_sum</th>\n",
       "      <th>operation_PREVOD NA UCET_sum</th>\n",
       "      <th>operation_PREVOD Z UCTU_sum</th>\n",
       "      <th>operation_VKLAD_sum</th>\n",
       "      <th>operation_VYBER_sum</th>\n",
       "      <th>operation_VYBER KARTOU_sum</th>\n",
       "      <th>k_symbol_DUCHOD_sum</th>\n",
       "      <th>k_symbol_Other_sum</th>\n",
       "      <th>k_symbol_POJISTNE_sum</th>\n",
       "      <th>k_symbol_SANKC. UROK_sum</th>\n",
       "      <th>k_symbol_SIPO_sum</th>\n",
       "      <th>k_symbol_SLUZBY_sum</th>\n",
       "      <th>k_symbol_UROK_sum</th>\n",
       "      <th>k_symbol_UVER_sum</th>\n",
       "      <th>A4</th>\n",
       "      <th>A5</th>\n",
       "      <th>A6</th>\n",
       "      <th>A7</th>\n",
       "      <th>A8</th>\n",
       "      <th>A9</th>\n",
       "      <th>A10</th>\n",
       "      <th>A11</th>\n",
       "      <th>A12</th>\n",
       "      <th>A13</th>\n",
       "      <th>A14</th>\n",
       "      <th>A15</th>\n",
       "      <th>A16</th>\n",
       "      <th>type_x</th>\n",
       "      <th>gender</th>\n",
       "      <th>birth_date</th>\n",
       "      <th>type_y</th>\n",
       "      <th>issued</th>\n",
       "    </tr>\n",
       "  </thead>\n",
       "  <tbody>\n",
       "    <tr>\n",
       "      <th>0</th>\n",
       "      <td>4959</td>\n",
       "      <td>2</td>\n",
       "      <td>1994-01-05</td>\n",
       "      <td>80952</td>\n",
       "      <td>24</td>\n",
       "      <td>3373.0</td>\n",
       "      <td>A</td>\n",
       "      <td>1</td>\n",
       "      <td>POPLATEK MESICNE</td>\n",
       "      <td>1993-02-26</td>\n",
       "      <td>10638.7</td>\n",
       "      <td>0.0</td>\n",
       "      <td>0.0</td>\n",
       "      <td>0.0</td>\n",
       "      <td>7266.0</td>\n",
       "      <td>3372.7</td>\n",
       "      <td>1993-02-26</td>\n",
       "      <td>1998-12-31</td>\n",
       "      <td>3151514</td>\n",
       "      <td>6593.125523</td>\n",
       "      <td>7694.515237</td>\n",
       "      <td>1100</td>\n",
       "      <td>69302</td>\n",
       "      <td>36540.780335</td>\n",
       "      <td>11028.155962</td>\n",
       "      <td>1597055</td>\n",
       "      <td>217442</td>\n",
       "      <td>1337017</td>\n",
       "      <td>10719</td>\n",
       "      <td>553242</td>\n",
       "      <td>1537936</td>\n",
       "      <td>48400</td>\n",
       "      <td>1001217</td>\n",
       "      <td>0</td>\n",
       "      <td>0</td>\n",
       "      <td>2586578</td>\n",
       "      <td>0</td>\n",
       "      <td>0</td>\n",
       "      <td>472290</td>\n",
       "      <td>975</td>\n",
       "      <td>10719</td>\n",
       "      <td>80952</td>\n",
       "      <td>1204953</td>\n",
       "      <td>0</td>\n",
       "      <td>0</td>\n",
       "      <td>0</td>\n",
       "      <td>1</td>\n",
       "      <td>1</td>\n",
       "      <td>100.0</td>\n",
       "      <td>12541</td>\n",
       "      <td>0.2</td>\n",
       "      <td>0.43</td>\n",
       "      <td>167</td>\n",
       "      <td>85677.0</td>\n",
       "      <td>99107</td>\n",
       "      <td>OWNER</td>\n",
       "      <td>M</td>\n",
       "      <td>1945-02-04</td>\n",
       "      <td>No Card</td>\n",
       "      <td>NaN</td>\n",
       "    </tr>\n",
       "    <tr>\n",
       "      <th>1</th>\n",
       "      <td>4961</td>\n",
       "      <td>19</td>\n",
       "      <td>1996-04-29</td>\n",
       "      <td>30276</td>\n",
       "      <td>12</td>\n",
       "      <td>2523.0</td>\n",
       "      <td>B</td>\n",
       "      <td>21</td>\n",
       "      <td>POPLATEK MESICNE</td>\n",
       "      <td>1995-04-07</td>\n",
       "      <td>2523.2</td>\n",
       "      <td>0.0</td>\n",
       "      <td>0.0</td>\n",
       "      <td>0.0</td>\n",
       "      <td>0.0</td>\n",
       "      <td>2523.2</td>\n",
       "      <td>1995-04-07</td>\n",
       "      <td>1998-12-31</td>\n",
       "      <td>1575532</td>\n",
       "      <td>5199.775578</td>\n",
       "      <td>6866.583331</td>\n",
       "      <td>-10605</td>\n",
       "      <td>58158</td>\n",
       "      <td>16253.069307</td>\n",
       "      <td>12127.947343</td>\n",
       "      <td>793196</td>\n",
       "      <td>32194</td>\n",
       "      <td>750142</td>\n",
       "      <td>5589</td>\n",
       "      <td>20184</td>\n",
       "      <td>741807</td>\n",
       "      <td>45800</td>\n",
       "      <td>762152</td>\n",
       "      <td>0</td>\n",
       "      <td>0</td>\n",
       "      <td>1068101</td>\n",
       "      <td>0</td>\n",
       "      <td>58</td>\n",
       "      <td>481000</td>\n",
       "      <td>600</td>\n",
       "      <td>5589</td>\n",
       "      <td>20184</td>\n",
       "      <td>103347</td>\n",
       "      <td>87</td>\n",
       "      <td>16</td>\n",
       "      <td>7</td>\n",
       "      <td>1</td>\n",
       "      <td>7</td>\n",
       "      <td>67.0</td>\n",
       "      <td>9104</td>\n",
       "      <td>1.5</td>\n",
       "      <td>2.07</td>\n",
       "      <td>123</td>\n",
       "      <td>2299.0</td>\n",
       "      <td>2354</td>\n",
       "      <td>OWNER</td>\n",
       "      <td>F</td>\n",
       "      <td>1939-04-23</td>\n",
       "      <td>No Card</td>\n",
       "      <td>NaN</td>\n",
       "    </tr>\n",
       "    <tr>\n",
       "      <th>2</th>\n",
       "      <td>4962</td>\n",
       "      <td>25</td>\n",
       "      <td>1997-12-08</td>\n",
       "      <td>30276</td>\n",
       "      <td>12</td>\n",
       "      <td>2523.0</td>\n",
       "      <td>A</td>\n",
       "      <td>68</td>\n",
       "      <td>POPLATEK MESICNE</td>\n",
       "      <td>1996-07-28</td>\n",
       "      <td>10614.2</td>\n",
       "      <td>0.0</td>\n",
       "      <td>1110.0</td>\n",
       "      <td>164.0</td>\n",
       "      <td>6817.0</td>\n",
       "      <td>2523.2</td>\n",
       "      <td>1996-07-28</td>\n",
       "      <td>1998-12-31</td>\n",
       "      <td>2958556</td>\n",
       "      <td>10797.649635</td>\n",
       "      <td>15178.207418</td>\n",
       "      <td>900</td>\n",
       "      <td>134210</td>\n",
       "      <td>56279.237226</td>\n",
       "      <td>24090.944026</td>\n",
       "      <td>1494375</td>\n",
       "      <td>85758</td>\n",
       "      <td>1378423</td>\n",
       "      <td>6203</td>\n",
       "      <td>248733</td>\n",
       "      <td>0</td>\n",
       "      <td>1488172</td>\n",
       "      <td>1215448</td>\n",
       "      <td>0</td>\n",
       "      <td>0</td>\n",
       "      <td>2733200</td>\n",
       "      <td>4428</td>\n",
       "      <td>0</td>\n",
       "      <td>184059</td>\n",
       "      <td>390</td>\n",
       "      <td>6203</td>\n",
       "      <td>30276</td>\n",
       "      <td>228848</td>\n",
       "      <td>15</td>\n",
       "      <td>40</td>\n",
       "      <td>18</td>\n",
       "      <td>2</td>\n",
       "      <td>6</td>\n",
       "      <td>57.2</td>\n",
       "      <td>9893</td>\n",
       "      <td>4.0</td>\n",
       "      <td>4.72</td>\n",
       "      <td>96</td>\n",
       "      <td>5623.0</td>\n",
       "      <td>5887</td>\n",
       "      <td>OWNER</td>\n",
       "      <td>M</td>\n",
       "      <td>1962-02-09</td>\n",
       "      <td>No Card</td>\n",
       "      <td>NaN</td>\n",
       "    </tr>\n",
       "    <tr>\n",
       "      <th>3</th>\n",
       "      <td>4967</td>\n",
       "      <td>37</td>\n",
       "      <td>1998-10-14</td>\n",
       "      <td>318480</td>\n",
       "      <td>60</td>\n",
       "      <td>5308.0</td>\n",
       "      <td>D</td>\n",
       "      <td>20</td>\n",
       "      <td>POPLATEK MESICNE</td>\n",
       "      <td>1997-08-18</td>\n",
       "      <td>10305.5</td>\n",
       "      <td>0.0</td>\n",
       "      <td>2584.0</td>\n",
       "      <td>97.0</td>\n",
       "      <td>2317.0</td>\n",
       "      <td>5307.5</td>\n",
       "      <td>1997-08-18</td>\n",
       "      <td>1998-12-31</td>\n",
       "      <td>948159</td>\n",
       "      <td>7293.530769</td>\n",
       "      <td>11915.486863</td>\n",
       "      <td>-1011</td>\n",
       "      <td>104762</td>\n",
       "      <td>37547.484615</td>\n",
       "      <td>23823.350618</td>\n",
       "      <td>497029</td>\n",
       "      <td>41655</td>\n",
       "      <td>409475</td>\n",
       "      <td>2535</td>\n",
       "      <td>75280</td>\n",
       "      <td>0</td>\n",
       "      <td>494494</td>\n",
       "      <td>375850</td>\n",
       "      <td>0</td>\n",
       "      <td>0</td>\n",
       "      <td>906325</td>\n",
       "      <td>1358</td>\n",
       "      <td>0</td>\n",
       "      <td>32438</td>\n",
       "      <td>195</td>\n",
       "      <td>2535</td>\n",
       "      <td>5308</td>\n",
       "      <td>70646</td>\n",
       "      <td>94</td>\n",
       "      <td>14</td>\n",
       "      <td>3</td>\n",
       "      <td>1</td>\n",
       "      <td>4</td>\n",
       "      <td>58.4</td>\n",
       "      <td>8547</td>\n",
       "      <td>2.6</td>\n",
       "      <td>3.64</td>\n",
       "      <td>120</td>\n",
       "      <td>1563.0</td>\n",
       "      <td>1542</td>\n",
       "      <td>OWNER</td>\n",
       "      <td>M</td>\n",
       "      <td>1952-08-26</td>\n",
       "      <td>No Card</td>\n",
       "      <td>NaN</td>\n",
       "    </tr>\n",
       "    <tr>\n",
       "      <th>4</th>\n",
       "      <td>4968</td>\n",
       "      <td>38</td>\n",
       "      <td>1998-04-19</td>\n",
       "      <td>110736</td>\n",
       "      <td>48</td>\n",
       "      <td>2307.0</td>\n",
       "      <td>C</td>\n",
       "      <td>19</td>\n",
       "      <td>POPLATEK TYDNE</td>\n",
       "      <td>1997-08-08</td>\n",
       "      <td>9666.8</td>\n",
       "      <td>0.0</td>\n",
       "      <td>231.0</td>\n",
       "      <td>228.0</td>\n",
       "      <td>6901.0</td>\n",
       "      <td>2306.8</td>\n",
       "      <td>1997-08-08</td>\n",
       "      <td>1998-12-31</td>\n",
       "      <td>571952</td>\n",
       "      <td>4399.630769</td>\n",
       "      <td>5450.454498</td>\n",
       "      <td>13841</td>\n",
       "      <td>55991</td>\n",
       "      <td>34462.384615</td>\n",
       "      <td>9455.331494</td>\n",
       "      <td>308266</td>\n",
       "      <td>37819</td>\n",
       "      <td>225867</td>\n",
       "      <td>2506</td>\n",
       "      <td>107007</td>\n",
       "      <td>256060</td>\n",
       "      <td>49700</td>\n",
       "      <td>156679</td>\n",
       "      <td>0</td>\n",
       "      <td>0</td>\n",
       "      <td>465082</td>\n",
       "      <td>2736</td>\n",
       "      <td>0</td>\n",
       "      <td>82812</td>\n",
       "      <td>360</td>\n",
       "      <td>2506</td>\n",
       "      <td>18456</td>\n",
       "      <td>51428</td>\n",
       "      <td>50</td>\n",
       "      <td>11</td>\n",
       "      <td>3</td>\n",
       "      <td>1</td>\n",
       "      <td>4</td>\n",
       "      <td>52.7</td>\n",
       "      <td>8402</td>\n",
       "      <td>3.1</td>\n",
       "      <td>3.98</td>\n",
       "      <td>120</td>\n",
       "      <td>999.0</td>\n",
       "      <td>1099</td>\n",
       "      <td>OWNER</td>\n",
       "      <td>F</td>\n",
       "      <td>1940-01-30</td>\n",
       "      <td>No Card</td>\n",
       "      <td>NaN</td>\n",
       "    </tr>\n",
       "  </tbody>\n",
       "</table>\n",
       "</div>"
      ],
      "text/plain": [
       "   loan_id  account_id      date_x  amount  duration  payments status  \\\n",
       "0     4959           2  1994-01-05   80952        24    3373.0      A   \n",
       "1     4961          19  1996-04-29   30276        12    2523.0      B   \n",
       "2     4962          25  1997-12-08   30276        12    2523.0      A   \n",
       "3     4967          37  1998-10-14  318480        60    5308.0      D   \n",
       "4     4968          38  1998-04-19  110736        48    2307.0      C   \n",
       "\n",
       "   district_id         frequency      date_y  amount_order  k_symbol_LEASING  \\\n",
       "0            1  POPLATEK MESICNE  1993-02-26       10638.7               0.0   \n",
       "1           21  POPLATEK MESICNE  1995-04-07        2523.2               0.0   \n",
       "2           68  POPLATEK MESICNE  1996-07-28       10614.2               0.0   \n",
       "3           20  POPLATEK MESICNE  1997-08-18       10305.5               0.0   \n",
       "4           19    POPLATEK TYDNE  1997-08-08        9666.8               0.0   \n",
       "\n",
       "   k_symbol_Other  k_symbol_POJISTNE  k_symbol_SIPO  k_symbol_UVER  \\\n",
       "0             0.0                0.0         7266.0         3372.7   \n",
       "1             0.0                0.0            0.0         2523.2   \n",
       "2          1110.0              164.0         6817.0         2523.2   \n",
       "3          2584.0               97.0         2317.0         5307.5   \n",
       "4           231.0              228.0         6901.0         2306.8   \n",
       "\n",
       "     date_min    date_max  amount_sum   amount_mean    amount_std  \\\n",
       "0  1993-02-26  1998-12-31     3151514   6593.125523   7694.515237   \n",
       "1  1995-04-07  1998-12-31     1575532   5199.775578   6866.583331   \n",
       "2  1996-07-28  1998-12-31     2958556  10797.649635  15178.207418   \n",
       "3  1997-08-18  1998-12-31      948159   7293.530769  11915.486863   \n",
       "4  1997-08-08  1998-12-31      571952   4399.630769   5450.454498   \n",
       "\n",
       "   balance_min  balance_max  balance_mean   balance_std  type_PRIJEM_sum  \\\n",
       "0         1100        69302  36540.780335  11028.155962          1597055   \n",
       "1       -10605        58158  16253.069307  12127.947343           793196   \n",
       "2          900       134210  56279.237226  24090.944026          1494375   \n",
       "3        -1011       104762  37547.484615  23823.350618           497029   \n",
       "4        13841        55991  34462.384615   9455.331494           308266   \n",
       "\n",
       "   type_VYBER_sum  type_VYDAJ_sum  operation_Other_sum  \\\n",
       "0          217442         1337017                10719   \n",
       "1           32194          750142                 5589   \n",
       "2           85758         1378423                 6203   \n",
       "3           41655          409475                 2535   \n",
       "4           37819          225867                 2506   \n",
       "\n",
       "   operation_PREVOD NA UCET_sum  operation_PREVOD Z UCTU_sum  \\\n",
       "0                        553242                      1537936   \n",
       "1                         20184                       741807   \n",
       "2                        248733                            0   \n",
       "3                         75280                            0   \n",
       "4                        107007                       256060   \n",
       "\n",
       "   operation_VKLAD_sum  operation_VYBER_sum  operation_VYBER KARTOU_sum  \\\n",
       "0                48400              1001217                           0   \n",
       "1                45800               762152                           0   \n",
       "2              1488172              1215448                           0   \n",
       "3               494494               375850                           0   \n",
       "4                49700               156679                           0   \n",
       "\n",
       "   k_symbol_DUCHOD_sum  k_symbol_Other_sum  k_symbol_POJISTNE_sum  \\\n",
       "0                    0             2586578                      0   \n",
       "1                    0             1068101                      0   \n",
       "2                    0             2733200                   4428   \n",
       "3                    0              906325                   1358   \n",
       "4                    0              465082                   2736   \n",
       "\n",
       "   k_symbol_SANKC. UROK_sum  k_symbol_SIPO_sum  k_symbol_SLUZBY_sum  \\\n",
       "0                         0             472290                  975   \n",
       "1                        58             481000                  600   \n",
       "2                         0             184059                  390   \n",
       "3                         0              32438                  195   \n",
       "4                         0              82812                  360   \n",
       "\n",
       "   k_symbol_UROK_sum  k_symbol_UVER_sum       A4  A5  A6  A7  A8  A9    A10  \\\n",
       "0              10719              80952  1204953   0   0   0   1   1  100.0   \n",
       "1               5589              20184   103347  87  16   7   1   7   67.0   \n",
       "2               6203              30276   228848  15  40  18   2   6   57.2   \n",
       "3               2535               5308    70646  94  14   3   1   4   58.4   \n",
       "4               2506              18456    51428  50  11   3   1   4   52.7   \n",
       "\n",
       "     A11  A12   A13  A14      A15    A16 type_x gender  birth_date   type_y  \\\n",
       "0  12541  0.2  0.43  167  85677.0  99107  OWNER      M  1945-02-04  No Card   \n",
       "1   9104  1.5  2.07  123   2299.0   2354  OWNER      F  1939-04-23  No Card   \n",
       "2   9893  4.0  4.72   96   5623.0   5887  OWNER      M  1962-02-09  No Card   \n",
       "3   8547  2.6  3.64  120   1563.0   1542  OWNER      M  1952-08-26  No Card   \n",
       "4   8402  3.1  3.98  120    999.0   1099  OWNER      F  1940-01-30  No Card   \n",
       "\n",
       "  issued  \n",
       "0    NaN  \n",
       "1    NaN  \n",
       "2    NaN  \n",
       "3    NaN  \n",
       "4    NaN  "
      ]
     },
     "execution_count": 19,
     "metadata": {},
     "output_type": "execute_result"
    }
   ],
   "source": [
    "# Find amount paid and amount remaining\n",
    "\n",
    "#Type A\n",
    "#Amount paid = amount\n",
    "#Amount remaining = 0\n",
    "\n",
    "#Type C\n",
    "#Amount paid = Months passed since start * payments\n",
    "#Amount remaining = Amount - Amount paid\n",
    "\n",
    "#B' stands for contract finished, loan not payed,\n",
    "\n",
    "\n",
    "#D' stands for running contract, client in debt\n",
    "Amount_Rem_B.sum()\n",
    "loans_base_df.head()"
   ]
  },
  {
   "cell_type": "code",
   "execution_count": 20,
   "metadata": {},
   "outputs": [
    {
     "name": "stdout",
     "output_type": "stream",
     "text": [
      "loan_id                                     4973\n",
      "account_id                                    67\n",
      "date_x                                1996-05-02\n",
      "amount                                    165960\n",
      "duration                                      24\n",
      "payments                                    6915\n",
      "status                                         A\n",
      "district_id                                   16\n",
      "frequency                       POPLATEK MESICNE\n",
      "date_y                                1994-10-19\n",
      "amount_order                               13753\n",
      "k_symbol_LEASING                               0\n",
      "k_symbol_Other                               445\n",
      "k_symbol_POJISTNE                              0\n",
      "k_symbol_SIPO                               6393\n",
      "k_symbol_UVER                               6915\n",
      "date_min                              1994-10-19\n",
      "date_max                              1998-12-31\n",
      "amount_sum                               4518183\n",
      "amount_mean                              11827.7\n",
      "amount_std                               15660.2\n",
      "balance_min                                  700\n",
      "balance_max                               134939\n",
      "balance_mean                             56893.4\n",
      "balance_std                              23399.3\n",
      "type_PRIJEM_sum                          2278938\n",
      "type_VYBER_sum                            246762\n",
      "type_VYDAJ_sum                           1992483\n",
      "operation_Other_sum                        10933\n",
      "operation_PREVOD NA UCET_sum              480508\n",
      "operation_PREVOD Z UCTU_sum              2261205\n",
      "operation_VKLAD_sum                         6800\n",
      "operation_VYBER_sum                      1758737\n",
      "operation_VYBER KARTOU_sum                     0\n",
      "k_symbol_DUCHOD_sum                            0\n",
      "k_symbol_Other_sum                       4046537\n",
      "k_symbol_POJISTNE_sum                          0\n",
      "k_symbol_SANKC. UROK_sum                       0\n",
      "k_symbol_SIPO_sum                         294078\n",
      "k_symbol_SLUZBY_sum                          675\n",
      "k_symbol_UROK_sum                          10933\n",
      "k_symbol_UVER_sum                         165960\n",
      "A4                                         93931\n",
      "A5                                            74\n",
      "A6                                            21\n",
      "A7                                            10\n",
      "A8                                             1\n",
      "A9                                             8\n",
      "A10                                         56.9\n",
      "A11                                         8427\n",
      "A12                                          1.1\n",
      "A13                                         1.54\n",
      "A14                                          107\n",
      "A15                                         1874\n",
      "A16                                         1913\n",
      "type_x                                     OWNER\n",
      "gender                                         F\n",
      "birth_date                            1944-06-13\n",
      "type_y                                   No Card\n",
      "issued                                       NaN\n",
      "Name: 5, dtype: object\n"
     ]
    }
   ],
   "source": [
    "pd.set_option('display.max_rows',100)\n",
    "print(loans_base_df.loc[5])"
   ]
  },
  {
   "cell_type": "code",
   "execution_count": 21,
   "metadata": {},
   "outputs": [
    {
     "name": "stderr",
     "output_type": "stream",
     "text": [
      "/home/dan/anaconda3/lib/python3.7/site-packages/ipykernel_launcher.py:3: SettingWithCopyWarning: \n",
      "A value is trying to be set on a copy of a slice from a DataFrame.\n",
      "Try using .loc[row_indexer,col_indexer] = value instead\n",
      "\n",
      "See the caveats in the documentation: https://pandas.pydata.org/pandas-docs/stable/user_guide/indexing.html#returning-a-view-versus-a-copy\n",
      "  This is separate from the ipykernel package so we can avoid doing imports until\n"
     ]
    },
    {
     "data": {
      "text/html": [
       "<div>\n",
       "<style scoped>\n",
       "    .dataframe tbody tr th:only-of-type {\n",
       "        vertical-align: middle;\n",
       "    }\n",
       "\n",
       "    .dataframe tbody tr th {\n",
       "        vertical-align: top;\n",
       "    }\n",
       "\n",
       "    .dataframe thead th {\n",
       "        text-align: right;\n",
       "    }\n",
       "</style>\n",
       "<table border=\"1\" class=\"dataframe\">\n",
       "  <thead>\n",
       "    <tr style=\"text-align: right;\">\n",
       "      <th></th>\n",
       "      <th>status</th>\n",
       "      <th>date_x</th>\n",
       "      <th>amount</th>\n",
       "      <th>duration</th>\n",
       "      <th>payments</th>\n",
       "      <th>k_symbol_UVER_sum</th>\n",
       "      <th>percent_paid</th>\n",
       "    </tr>\n",
       "  </thead>\n",
       "  <tbody>\n",
       "    <tr>\n",
       "      <th>0</th>\n",
       "      <td>A</td>\n",
       "      <td>1994-01-05</td>\n",
       "      <td>80952</td>\n",
       "      <td>24</td>\n",
       "      <td>3373.0</td>\n",
       "      <td>80952</td>\n",
       "      <td>100.0</td>\n",
       "    </tr>\n",
       "    <tr>\n",
       "      <th>2</th>\n",
       "      <td>A</td>\n",
       "      <td>1997-12-08</td>\n",
       "      <td>30276</td>\n",
       "      <td>12</td>\n",
       "      <td>2523.0</td>\n",
       "      <td>30276</td>\n",
       "      <td>100.0</td>\n",
       "    </tr>\n",
       "    <tr>\n",
       "      <th>5</th>\n",
       "      <td>A</td>\n",
       "      <td>1996-05-02</td>\n",
       "      <td>165960</td>\n",
       "      <td>24</td>\n",
       "      <td>6915.0</td>\n",
       "      <td>165960</td>\n",
       "      <td>100.0</td>\n",
       "    </tr>\n",
       "    <tr>\n",
       "      <th>6</th>\n",
       "      <td>A</td>\n",
       "      <td>1997-08-10</td>\n",
       "      <td>102876</td>\n",
       "      <td>12</td>\n",
       "      <td>8573.0</td>\n",
       "      <td>102876</td>\n",
       "      <td>100.0</td>\n",
       "    </tr>\n",
       "    <tr>\n",
       "      <th>10</th>\n",
       "      <td>A</td>\n",
       "      <td>1996-11-06</td>\n",
       "      <td>88440</td>\n",
       "      <td>12</td>\n",
       "      <td>7370.0</td>\n",
       "      <td>88440</td>\n",
       "      <td>100.0</td>\n",
       "    </tr>\n",
       "  </tbody>\n",
       "</table>\n",
       "</div>"
      ],
      "text/plain": [
       "   status      date_x  amount  duration  payments  k_symbol_UVER_sum  \\\n",
       "0       A  1994-01-05   80952        24    3373.0              80952   \n",
       "2       A  1997-12-08   30276        12    2523.0              30276   \n",
       "5       A  1996-05-02  165960        24    6915.0             165960   \n",
       "6       A  1997-08-10  102876        12    8573.0             102876   \n",
       "10      A  1996-11-06   88440        12    7370.0              88440   \n",
       "\n",
       "    percent_paid  \n",
       "0          100.0  \n",
       "2          100.0  \n",
       "5          100.0  \n",
       "6          100.0  \n",
       "10         100.0  "
      ]
     },
     "execution_count": 21,
     "metadata": {},
     "output_type": "execute_result"
    }
   ],
   "source": [
    "percent_paid = 100*(A_loans['k_symbol_UVER_sum'] / A_loans['amount'])\n",
    "\n",
    "A_loans['percent_paid'] = percent_paid\n",
    "A_info = A_loans[['status','date_x','amount','duration','payments','k_symbol_UVER_sum','percent_paid']]\n",
    "A_info.head()"
   ]
  },
  {
   "cell_type": "code",
   "execution_count": 22,
   "metadata": {},
   "outputs": [],
   "source": [
    "#print( A_info['amount'].sum(), A_info['k_symbol_UVER_sum'].sum(), A_info['k_symbol_UVER_sum'].sum()/A_info['amount'].sum())"
   ]
  },
  {
   "cell_type": "code",
   "execution_count": 23,
   "metadata": {},
   "outputs": [
    {
     "name": "stdout",
     "output_type": "stream",
     "text": [
      "4362348 3350530 0.7680565603661148\n"
     ]
    },
    {
     "name": "stderr",
     "output_type": "stream",
     "text": [
      "/home/dan/anaconda3/lib/python3.7/site-packages/ipykernel_launcher.py:3: SettingWithCopyWarning: \n",
      "A value is trying to be set on a copy of a slice from a DataFrame.\n",
      "Try using .loc[row_indexer,col_indexer] = value instead\n",
      "\n",
      "See the caveats in the documentation: https://pandas.pydata.org/pandas-docs/stable/user_guide/indexing.html#returning-a-view-versus-a-copy\n",
      "  This is separate from the ipykernel package so we can avoid doing imports until\n"
     ]
    }
   ],
   "source": [
    "percent_paid = 100*(B_loans['k_symbol_UVER_sum'] / B_loans['amount'])\n",
    "\n",
    "B_loans['percent_paid'] = percent_paid\n",
    "B_info = B_loans[['status','date_x','amount','duration','payments','k_symbol_UVER_sum','percent_paid']]\n",
    "B_info.head()\n",
    "\n",
    "print( B_info['amount'].sum(), B_info['k_symbol_UVER_sum'].sum(), B_info['k_symbol_UVER_sum'].sum()/B_info['amount'].sum())"
   ]
  },
  {
   "cell_type": "code",
   "execution_count": 24,
   "metadata": {},
   "outputs": [
    {
     "name": "stdout",
     "output_type": "stream",
     "text": [
      "69078372 28891760 0.41824610458393546\n"
     ]
    },
    {
     "name": "stderr",
     "output_type": "stream",
     "text": [
      "/home/dan/anaconda3/lib/python3.7/site-packages/ipykernel_launcher.py:3: SettingWithCopyWarning: \n",
      "A value is trying to be set on a copy of a slice from a DataFrame.\n",
      "Try using .loc[row_indexer,col_indexer] = value instead\n",
      "\n",
      "See the caveats in the documentation: https://pandas.pydata.org/pandas-docs/stable/user_guide/indexing.html#returning-a-view-versus-a-copy\n",
      "  This is separate from the ipykernel package so we can avoid doing imports until\n"
     ]
    }
   ],
   "source": [
    "percent_paid = 100*(C_loans['k_symbol_UVER_sum'] / C_loans['amount'])\n",
    "\n",
    "C_loans['percent_paid'] = percent_paid\n",
    "C_info = C_loans[['status','date_x','amount','duration','payments','k_symbol_UVER_sum','percent_paid']]\n",
    "C_info.head()\n",
    "\n",
    "print( C_info['amount'].sum(), C_info['k_symbol_UVER_sum'].sum(), C_info['k_symbol_UVER_sum'].sum()/C_info['amount'].sum())\n"
   ]
  },
  {
   "cell_type": "code",
   "execution_count": 25,
   "metadata": {},
   "outputs": [
    {
     "name": "stdout",
     "output_type": "stream",
     "text": [
      "11217804 4408405 0.3929828868466591\n"
     ]
    },
    {
     "name": "stderr",
     "output_type": "stream",
     "text": [
      "/home/dan/anaconda3/lib/python3.7/site-packages/ipykernel_launcher.py:3: SettingWithCopyWarning: \n",
      "A value is trying to be set on a copy of a slice from a DataFrame.\n",
      "Try using .loc[row_indexer,col_indexer] = value instead\n",
      "\n",
      "See the caveats in the documentation: https://pandas.pydata.org/pandas-docs/stable/user_guide/indexing.html#returning-a-view-versus-a-copy\n",
      "  This is separate from the ipykernel package so we can avoid doing imports until\n"
     ]
    }
   ],
   "source": [
    "percent_paid = 100*(D_loans['k_symbol_UVER_sum'] / D_loans['amount'])\n",
    "\n",
    "D_loans['percent_paid'] = percent_paid\n",
    "D_info = D_loans[['status','date_x','amount','duration','payments','k_symbol_UVER_sum','percent_paid']]\n",
    "D_info.head()\n",
    "\n",
    "print( D_info['amount'].sum(), D_info['k_symbol_UVER_sum'].sum(), D_info['k_symbol_UVER_sum'].sum()/D_info['amount'].sum())"
   ]
  },
  {
   "cell_type": "markdown",
   "metadata": {},
   "source": [
    "# Do Some Plots"
   ]
  },
  {
   "cell_type": "code",
   "execution_count": 26,
   "metadata": {
    "scrolled": true
   },
   "outputs": [
    {
     "data": {
      "image/png": "[encoded data removed]",
      "text/plain": [
       "<Figure size 432x288 with 1 Axes>"
      ]
     },
     "metadata": {
      "needs_background": "light"
     },
     "output_type": "display_data"
    }
   ],
   "source": [
    "sns.distplot(A_info['amount'], hist=False, rug=False, label=\"A\");\n",
    "sns.distplot(B_info['amount'], hist=False, rug=False, label=\"B\");\n",
    "sns.distplot(C_info['amount'], hist=False, rug=False, label=\"C\");\n",
    "sns.distplot(D_info['amount'], hist=False, rug=False, label=\"D\");\n",
    "plt.legend();"
   ]
  },
  {
   "cell_type": "code",
   "execution_count": 27,
   "metadata": {},
   "outputs": [
    {
     "data": {
      "image/png": "[encoded data removed]",
      "text/plain": [
       "<Figure size 432x288 with 1 Axes>"
      ]
     },
     "metadata": {
      "needs_background": "light"
     },
     "output_type": "display_data"
    }
   ],
   "source": [
    "sns.distplot(A_info['duration'], hist=False, rug=False, label=\"A\");\n",
    "sns.distplot(B_info['duration'], hist=False, rug=False, label=\"B\");\n",
    "sns.distplot(C_info['duration'], hist=False, rug=False, label=\"C\");\n",
    "sns.distplot(D_info['duration'], hist=False, rug=False, label=\"D\");\n",
    "#plt.legend(['A','B','C','D']);"
   ]
  },
  {
   "cell_type": "code",
   "execution_count": 28,
   "metadata": {},
   "outputs": [
    {
     "data": {
      "image/png": "[encoded data removed]",
      "text/plain": [
       "<Figure size 432x288 with 1 Axes>"
      ]
     },
     "metadata": {
      "needs_background": "light"
     },
     "output_type": "display_data"
    }
   ],
   "source": [
    "sns.distplot(A_info['k_symbol_UVER_sum'], hist=False, rug=False, label=\"A\");\n",
    "sns.distplot(B_info['k_symbol_UVER_sum'], hist=False, rug=False, label=\"B\");\n",
    "sns.distplot(C_info['k_symbol_UVER_sum'], hist=False, rug=False, label=\"C\");\n",
    "sns.distplot(D_info['k_symbol_UVER_sum'], hist=False, rug=False, label=\"D\");"
   ]
  },
  {
   "cell_type": "code",
   "execution_count": 29,
   "metadata": {},
   "outputs": [
    {
     "data": {
      "image/png": "[encoded data removed]",
      "text/plain": [
       "<Figure size 432x288 with 1 Axes>"
      ]
     },
     "metadata": {
      "needs_background": "light"
     },
     "output_type": "display_data"
    }
   ],
   "source": [
    "sns.distplot(A_info['payments'], hist=False, rug=False, label=\"A\");\n",
    "sns.distplot(B_info['payments'], hist=False, rug=False, label=\"B\");\n",
    "sns.distplot(C_info['payments'], hist=False, rug=False, label=\"C\");\n",
    "sns.distplot(D_info['payments'], hist=False, rug=False, label=\"D\");"
   ]
  },
  {
   "cell_type": "code",
   "execution_count": 32,
   "metadata": {},
   "outputs": [
    {
     "data": {
      "text/plain": [
       "4980"
      ]
     },
     "execution_count": 32,
     "metadata": {},
     "output_type": "execute_result"
    },
    {
     "data": {
      "image/png": "[encoded data removed]",
      "text/plain": [
       "<Figure size 432x288 with 1 Axes>"
      ]
     },
     "metadata": {
      "needs_background": "light"
     },
     "output_type": "display_data"
    }
   ],
   "source": [
    "sns.distplot(pd.to_datetime(A_info['date_x']), hist=False, rug=False, label=\"A\");\n",
    "sns.distplot(pd.to_datetime(B_info['date_x']), hist=False, rug=False, label=\"B\");\n",
    "sns.distplot(pd.to_datetime(C_info['date_x']), hist=False, rug=False, label=\"C\");\n",
    "sns.distplot(pd.to_datetime(D_info['date_x']), hist=False, rug=False, label=\"D\");\n",
    "\n",
    "loans_base_df['amount'].min()\n"
   ]
  },
  {
   "cell_type": "code",
   "execution_count": 33,
   "metadata": {},
   "outputs": [
    {
     "data": {
      "text/plain": [
       "Text(0.5, 1.0, 'Loan Amount Distribution')"
      ]
     },
     "execution_count": 33,
     "metadata": {},
     "output_type": "execute_result"
    },
    {
     "data": {
      "image/png": "[encoded data removed]",
      "text/plain": [
       "<Figure size 432x288 with 1 Axes>"
      ]
     },
     "metadata": {
      "needs_background": "light"
     },
     "output_type": "display_data"
    }
   ],
   "source": [
    "fig_dims = (6, 4)\n",
    "fig, ax = plt.subplots(figsize=fig_dims)\n",
    "\n",
    "chart = sns.distplot(loans_base_df['amount'], kde=False, bins=12, rug=False,\n",
    "                    hist_kws={\"histtype\": \"bar\", \"linewidth\": 3,\n",
    "                            \"alpha\": 1, \"color\": \"b\", \"rwidth\" : 0.9 });\n",
    "\n",
    "ax.set_xlabel('Loan Amount',fontsize='x-large')\n",
    "ax.set_ylabel('Number',fontsize='x-large')\n",
    "#ax.set_facecolor('xkcd:salmon')\n",
    "#ax.set_xticklabels(ax.get_xticklabels(), rotation=45)\n",
    "ax.set_title('Loan Amount Distribution',fontsize='x-large')"
   ]
  },
  {
   "cell_type": "code",
   "execution_count": 34,
   "metadata": {},
   "outputs": [
    {
     "data": {
      "image/png": "[encoded data removed]",
      "text/plain": [
       "<Figure size 432x288 with 1 Axes>"
      ]
     },
     "metadata": {
      "needs_background": "light"
     },
     "output_type": "display_data"
    }
   ],
   "source": [
    "sns.distplot(A_info['amount'], kde=False, bins=10, rug=False, label=\"A\");\n",
    "sns.distplot(B_info['amount'], kde=False, bins=10, rug=False, label=\"B\");\n",
    "sns.distplot(C_info['amount'], kde=False, bins=10, rug=False, label=\"C\");\n",
    "sns.distplot(D_info['amount'], kde=False, bins=10, rug=False, label=\"D\");\n",
    "plt.legend();"
   ]
  },
  {
   "cell_type": "code",
   "execution_count": null,
   "metadata": {},
   "outputs": [],
   "source": [
    "loans_base_df['amount'].median()"
   ]
  },
  {
   "cell_type": "code",
   "execution_count": null,
   "metadata": {},
   "outputs": [],
   "source": [
    "sns.scatterplot('amount','k_symbol_UVER_sum',data=A_info,label=\"A\")\n",
    "sns.scatterplot('amount','k_symbol_UVER_sum',data=B_info,label=\"B\")\n",
    "sns.scatterplot('amount','k_symbol_UVER_sum',data=C_info,label=\"C\")\n",
    "sns.scatterplot('amount','k_symbol_UVER_sum',data=D_info,label=\"D\")\n",
    "plt.legend();"
   ]
  },
  {
   "cell_type": "code",
   "execution_count": null,
   "metadata": {},
   "outputs": [],
   "source": [
    "loans_base_df[(loans_base_df['amount']>100000) ]['status'].value_counts()"
   ]
  },
  {
   "cell_type": "code",
   "execution_count": 35,
   "metadata": {},
   "outputs": [
    {
     "data": {
      "image/png": "[encoded data removed]",
      "text/plain": [
       "<Figure size 432x288 with 1 Axes>"
      ]
     },
     "metadata": {
      "needs_background": "light"
     },
     "output_type": "display_data"
    }
   ],
   "source": [
    "# set width of bar\n",
    "barWidth = 0.15\n",
    "\n",
    "fig_dims = (6, 4)\n",
    "fig, ax = plt.subplots(figsize=fig_dims)\n",
    " \n",
    "# set height of bar\n",
    "bars1 = [139, 64]\n",
    "bars2 = [16, 15 ]\n",
    "bars3 = [143,260 ]\n",
    "bars4 = [7, 38 ]\n",
    " \n",
    "# Set position of bar on X axis\n",
    "r1 = np.arange(len(bars1))\n",
    "r2 = [x + barWidth for x in r1]\n",
    "r3 = [x + barWidth for x in r2]\n",
    "r4 = [x + barWidth for x in r3] \n",
    "    \n",
    "# Make the plot\n",
    "plt.bar(r1, bars1, color='g', width=barWidth, edgecolor='white', label='A')\n",
    "plt.bar(r2, bars3, color='b', width=barWidth, edgecolor='white', label='C')\n",
    "plt.bar(r3, bars2, color='orange', width=barWidth, edgecolor='white', label='B')\n",
    "plt.bar(r4, bars4, color='r', width=barWidth, edgecolor='white', label='D') \n",
    "    \n",
    "# Add xticks on the middle of the group bars\n",
    "#plt.xlabel('group', fontweight='bold')\n",
    "plt.xticks([r + barWidth for r in range(len(bars1))], ['<100000 $', '>100000 $'],fontsize='large')\n",
    "plt.yticks(fontsize='large')\n",
    "# Create legend & Show graphic\n",
    "\n",
    "plt.xlabel('Loan Size',fontsize='large')\n",
    "plt.ylabel('Number',fontsize='large')\n",
    "plt.title('Loan Size/Type Distribution',fontsize='x-large')\n",
    "\n",
    "plt.legend()\n",
    "plt.show()\n"
   ]
  },
  {
   "cell_type": "code",
   "execution_count": 36,
   "metadata": {},
   "outputs": [
    {
     "data": {
      "text/plain": [
       "array([92.45901639, 90.625     , 82.52427184, 82.14285714, 71.42857143,\n",
       "       80.        ])"
      ]
     },
     "execution_count": 36,
     "metadata": {},
     "output_type": "execute_result"
    }
   ],
   "source": [
    "bars1 = np.array([139,48,14,2,0,0])\n",
    "bars2 = np.array([16,8,6,0,1,0])\n",
    "bars3 = np.array([143,126,71,44,15,4])\n",
    "bars4 = np.array([7,10,12,10,5,1 ])\n",
    "\n",
    "\n",
    "(bars1 + bars3)/(bars1+bars2+bars3+bars4)*100"
   ]
  },
  {
   "cell_type": "code",
   "execution_count": 37,
   "metadata": {},
   "outputs": [],
   "source": [
    "loans_base_df['big_loan'] = loans_base_df['amount']>100000\n",
    "loans_base_df['remaining'] = loans_base_df['amount'] - loans_base_df['k_symbol_UVER_sum']\n",
    "loans_base_df.head()\n",
    "\n",
    "loan_sub = loans_base_df[['k_symbol_UVER_sum','remaining','status','big_loan']]\n",
    "loan_sub = loan_sub.rename(columns = {'k_symbol_UVER_sum':'Amount Paid', 'remaining' : 'Amount Owed' })\n",
    "\n",
    "loan_sub_grp = loan_sub.groupby(['big_loan','status']).sum()\n"
   ]
  },
  {
   "cell_type": "code",
   "execution_count": 38,
   "metadata": {},
   "outputs": [
    {
     "data": {
      "image/png": "[encoded data removed]",
      "text/plain": [
       "<Figure size 432x288 with 1 Axes>"
      ]
     },
     "metadata": {
      "needs_background": "light"
     },
     "output_type": "display_data"
    }
   ],
   "source": [
    "\n",
    "fig_dims = (6, 4)\n",
    "fig, axes = plt.subplots(figsize=fig_dims)\n",
    "\n",
    "from matplotlib.ticker import FormatStrFormatter\n",
    "\n",
    "loan_sub_grp.loc[True].plot.bar(rot=0,color=['g', 'orange']*5,ax=axes )\n",
    "\n",
    "#axes.yaxis.set_major_formatter(FormatStrFormatter('%e'))\n",
    "\n",
    "plt.xticks([r + barWidth for r in range(4)], ['A','B','C','D'],fontsize='large')\n",
    "#plt.yticks(fontsize='large')\n",
    "# Create legend & Show graphic\n",
    "\n",
    "plt.xlabel('Loan Type',fontsize='large')\n",
    "plt.ylabel('Dollars (10s of Millions)',fontsize='large')\n",
    "plt.title('Large Outstanding Loans',fontsize='x-large')\n",
    "#ytickformat('usd')\n",
    "#ax.set_xticklabels(ax.get_xticklabels(), rotation=45)\n",
    "\n",
    "plt.ylim(0, 40000000)\n",
    "plt.legend()\n",
    "plt.show()"
   ]
  }
 ],
 "metadata": {
  "kernelspec": {
   "display_name": "Python 3",
   "language": "python",
   "name": "python3"
  },
  "language_info": {
   "codemirror_mode": {
    "name": "ipython",
    "version": 3
   },
   "file_extension": ".py",
   "mimetype": "text/x-python",
   "name": "python",
   "nbconvert_exporter": "python",
   "pygments_lexer": "ipython3",
   "version": "3.7.6"
  }
 },
 "nbformat": 4,
 "nbformat_minor": 4
}
